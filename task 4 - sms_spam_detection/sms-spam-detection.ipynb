{
 "cells": [
  {
   "cell_type": "code",
   "execution_count": 1,
   "id": "4d01eac2",
   "metadata": {},
   "outputs": [],
   "source": [
    "import numpy as np\n",
    "import pandas as pd\n",
    "import matplotlib.pyplot as plt\n",
    "import seaborn as sns\n",
    "import tensorflow as tf\n",
    "from tensorflow import keras\n",
    "from tensorflow.keras import layers\n",
    "from sklearn.model_selection import train_test_split\n",
    "from sklearn.metrics import plot_confusion_matrix\n",
    "from tensorflow.keras.layers import TextVectorization\n",
    "from sklearn.feature_extraction.text import TfidfVectorizer\n",
    "from sklearn.naive_bayes import MultinomialNB\n",
    "from sklearn.metrics import classification_report,accuracy_score\n",
    "from sklearn.metrics import precision_score, recall_score, f1_score"
   ]
  },
  {
   "cell_type": "code",
   "execution_count": 2,
   "id": "956b858d",
   "metadata": {},
   "outputs": [
    {
     "data": {
      "text/html": [
       "<div>\n",
       "<style scoped>\n",
       "    .dataframe tbody tr th:only-of-type {\n",
       "        vertical-align: middle;\n",
       "    }\n",
       "\n",
       "    .dataframe tbody tr th {\n",
       "        vertical-align: top;\n",
       "    }\n",
       "\n",
       "    .dataframe thead th {\n",
       "        text-align: right;\n",
       "    }\n",
       "</style>\n",
       "<table border=\"1\" class=\"dataframe\">\n",
       "  <thead>\n",
       "    <tr style=\"text-align: right;\">\n",
       "      <th></th>\n",
       "      <th>v1</th>\n",
       "      <th>v2</th>\n",
       "      <th>Unnamed: 2</th>\n",
       "      <th>Unnamed: 3</th>\n",
       "      <th>Unnamed: 4</th>\n",
       "    </tr>\n",
       "  </thead>\n",
       "  <tbody>\n",
       "    <tr>\n",
       "      <th>0</th>\n",
       "      <td>ham</td>\n",
       "      <td>Go until jurong point, crazy.. Available only ...</td>\n",
       "      <td>NaN</td>\n",
       "      <td>NaN</td>\n",
       "      <td>NaN</td>\n",
       "    </tr>\n",
       "    <tr>\n",
       "      <th>1</th>\n",
       "      <td>ham</td>\n",
       "      <td>Ok lar... Joking wif u oni...</td>\n",
       "      <td>NaN</td>\n",
       "      <td>NaN</td>\n",
       "      <td>NaN</td>\n",
       "    </tr>\n",
       "    <tr>\n",
       "      <th>2</th>\n",
       "      <td>spam</td>\n",
       "      <td>Free entry in 2 a wkly comp to win FA Cup fina...</td>\n",
       "      <td>NaN</td>\n",
       "      <td>NaN</td>\n",
       "      <td>NaN</td>\n",
       "    </tr>\n",
       "    <tr>\n",
       "      <th>3</th>\n",
       "      <td>ham</td>\n",
       "      <td>U dun say so early hor... U c already then say...</td>\n",
       "      <td>NaN</td>\n",
       "      <td>NaN</td>\n",
       "      <td>NaN</td>\n",
       "    </tr>\n",
       "    <tr>\n",
       "      <th>4</th>\n",
       "      <td>ham</td>\n",
       "      <td>Nah I don't think he goes to usf, he lives aro...</td>\n",
       "      <td>NaN</td>\n",
       "      <td>NaN</td>\n",
       "      <td>NaN</td>\n",
       "    </tr>\n",
       "  </tbody>\n",
       "</table>\n",
       "</div>"
      ],
      "text/plain": [
       "     v1                                                 v2 Unnamed: 2  \\\n",
       "0   ham  Go until jurong point, crazy.. Available only ...        NaN   \n",
       "1   ham                      Ok lar... Joking wif u oni...        NaN   \n",
       "2  spam  Free entry in 2 a wkly comp to win FA Cup fina...        NaN   \n",
       "3   ham  U dun say so early hor... U c already then say...        NaN   \n",
       "4   ham  Nah I don't think he goes to usf, he lives aro...        NaN   \n",
       "\n",
       "  Unnamed: 3 Unnamed: 4  \n",
       "0        NaN        NaN  \n",
       "1        NaN        NaN  \n",
       "2        NaN        NaN  \n",
       "3        NaN        NaN  \n",
       "4        NaN        NaN  "
      ]
     },
     "execution_count": 2,
     "metadata": {},
     "output_type": "execute_result"
    }
   ],
   "source": [
    "df = pd.read_csv(\"spam.csv\",encoding='latin-1')\n",
    "df.head()"
   ]
  },
  {
   "cell_type": "code",
   "execution_count": 3,
   "id": "4d05b035",
   "metadata": {},
   "outputs": [
    {
     "data": {
      "text/html": [
       "<div>\n",
       "<style scoped>\n",
       "    .dataframe tbody tr th:only-of-type {\n",
       "        vertical-align: middle;\n",
       "    }\n",
       "\n",
       "    .dataframe tbody tr th {\n",
       "        vertical-align: top;\n",
       "    }\n",
       "\n",
       "    .dataframe thead th {\n",
       "        text-align: right;\n",
       "    }\n",
       "</style>\n",
       "<table border=\"1\" class=\"dataframe\">\n",
       "  <thead>\n",
       "    <tr style=\"text-align: right;\">\n",
       "      <th></th>\n",
       "      <th>label</th>\n",
       "      <th>Text</th>\n",
       "      <th>label_enc</th>\n",
       "    </tr>\n",
       "  </thead>\n",
       "  <tbody>\n",
       "    <tr>\n",
       "      <th>0</th>\n",
       "      <td>ham</td>\n",
       "      <td>Go until jurong point, crazy.. Available only ...</td>\n",
       "      <td>0</td>\n",
       "    </tr>\n",
       "    <tr>\n",
       "      <th>1</th>\n",
       "      <td>ham</td>\n",
       "      <td>Ok lar... Joking wif u oni...</td>\n",
       "      <td>0</td>\n",
       "    </tr>\n",
       "    <tr>\n",
       "      <th>2</th>\n",
       "      <td>spam</td>\n",
       "      <td>Free entry in 2 a wkly comp to win FA Cup fina...</td>\n",
       "      <td>1</td>\n",
       "    </tr>\n",
       "    <tr>\n",
       "      <th>3</th>\n",
       "      <td>ham</td>\n",
       "      <td>U dun say so early hor... U c already then say...</td>\n",
       "      <td>0</td>\n",
       "    </tr>\n",
       "    <tr>\n",
       "      <th>4</th>\n",
       "      <td>ham</td>\n",
       "      <td>Nah I don't think he goes to usf, he lives aro...</td>\n",
       "      <td>0</td>\n",
       "    </tr>\n",
       "  </tbody>\n",
       "</table>\n",
       "</div>"
      ],
      "text/plain": [
       "  label                                               Text  label_enc\n",
       "0   ham  Go until jurong point, crazy.. Available only ...          0\n",
       "1   ham                      Ok lar... Joking wif u oni...          0\n",
       "2  spam  Free entry in 2 a wkly comp to win FA Cup fina...          1\n",
       "3   ham  U dun say so early hor... U c already then say...          0\n",
       "4   ham  Nah I don't think he goes to usf, he lives aro...          0"
      ]
     },
     "execution_count": 3,
     "metadata": {},
     "output_type": "execute_result"
    }
   ],
   "source": [
    "df = df.drop(['Unnamed: 2','Unnamed: 3','Unnamed: 4'],axis=1)\n",
    "df = df.rename(columns={'v1':'label','v2':'Text'})\n",
    "df['label_enc'] = df['label'].map({'ham':0,'spam':1})\n",
    "df.head()"
   ]
  },
  {
   "cell_type": "code",
   "execution_count": 4,
   "id": "e1dd7401",
   "metadata": {},
   "outputs": [
    {
     "data": {
      "image/png": "[encoded data removed]",
      "text/plain": [
       "<Figure size 432x288 with 1 Axes>"
      ]
     },
     "metadata": {
      "needs_background": "light"
     },
     "output_type": "display_data"
    }
   ],
   "source": [
    "sns.countplot(x=df['label'])\n",
    "plt.show()"
   ]
  },
  {
   "cell_type": "code",
   "execution_count": 5,
   "id": "26cbfa68",
   "metadata": {},
   "outputs": [
    {
     "name": "stdout",
     "output_type": "stream",
     "text": [
      "15\n"
     ]
    }
   ],
   "source": [
    "avg_words_len=round(sum([len(i.split()) for i in df['Text']])/len(df['Text']))\n",
    "print(avg_words_len)"
   ]
  },
  {
   "cell_type": "code",
   "execution_count": 6,
   "id": "d9e2a71a",
   "metadata": {},
   "outputs": [
    {
     "name": "stdout",
     "output_type": "stream",
     "text": [
      "15585\n"
     ]
    }
   ],
   "source": [
    "s = set()\n",
    "for sent in df['Text']:\n",
    "  for word in sent.split():\n",
    "    s.add(word)\n",
    "total_words_length=len(s)\n",
    "print(total_words_length)"
   ]
  },
  {
   "cell_type": "code",
   "execution_count": 7,
   "id": "03fc4c2c",
   "metadata": {},
   "outputs": [
    {
     "data": {
      "text/plain": [
       "((4457,), (4457,), (1115,), (1115,))"
      ]
     },
     "execution_count": 7,
     "metadata": {},
     "output_type": "execute_result"
    }
   ],
   "source": [
    "X, y = np.asanyarray(df['Text']), np.asanyarray(df['label_enc'])\n",
    "new_df = pd.DataFrame({'Text': X, 'label': y})\n",
    "X_train, X_test, y_train, y_test = train_test_split(\n",
    "    new_df['Text'], new_df['label'], test_size=0.2, random_state=42)\n",
    "X_train.shape, y_train.shape, X_test.shape, y_test.shape"
   ]
  },
  {
   "cell_type": "code",
   "execution_count": 8,
   "id": "d58acdf2",
   "metadata": {},
   "outputs": [
    {
     "data": {
      "text/plain": [
       "MultinomialNB()"
      ]
     },
     "execution_count": 8,
     "metadata": {},
     "output_type": "execute_result"
    }
   ],
   "source": [
    "tfidf_vec = TfidfVectorizer().fit(X_train)\n",
    "X_train_vec,X_test_vec = tfidf_vec.transform(X_train),tfidf_vec.transform(X_test)\n",
    " \n",
    "baseline_model = MultinomialNB()\n",
    "baseline_model.fit(X_train_vec,y_train)"
   ]
  },
  {
   "cell_type": "code",
   "execution_count": 9,
   "id": "643d1ba7",
   "metadata": {},
   "outputs": [
    {
     "name": "stdout",
     "output_type": "stream",
     "text": [
      "0.9623318385650225\n",
      "              precision    recall  f1-score   support\n",
      "\n",
      "           0       0.96      1.00      0.98       965\n",
      "           1       1.00      0.72      0.84       150\n",
      "\n",
      "    accuracy                           0.96      1115\n",
      "   macro avg       0.98      0.86      0.91      1115\n",
      "weighted avg       0.96      0.96      0.96      1115\n",
      "\n"
     ]
    }
   ],
   "source": [
    "nb_accuracy = accuracy_score(y_test, baseline_model.predict(X_test_vec))\n",
    "print(nb_accuracy)\n",
    "print(classification_report(y_test, baseline_model.predict(X_test_vec)))"
   ]
  },
  {
   "cell_type": "code",
   "execution_count": 10,
   "id": "18e0aea3",
   "metadata": {},
   "outputs": [
    {
     "name": "stderr",
     "output_type": "stream",
     "text": [
      "C:\\Anaconda\\lib\\site-packages\\sklearn\\utils\\deprecation.py:87: FutureWarning: Function plot_confusion_matrix is deprecated; Function `plot_confusion_matrix` is deprecated in 1.0 and will be removed in 1.2. Use one of the class methods: ConfusionMatrixDisplay.from_predictions or ConfusionMatrixDisplay.from_estimator.\n",
      "  warnings.warn(msg, category=FutureWarning)\n"
     ]
    },
    {
     "data": {
      "text/plain": [
       "<sklearn.metrics._plot.confusion_matrix.ConfusionMatrixDisplay at 0x1ddfb1cebb0>"
      ]
     },
     "execution_count": 10,
     "metadata": {},
     "output_type": "execute_result"
    },
    {
     "data": {
      "image/png": "[encoded data removed]",
      "text/plain": [
       "<Figure size 432x288 with 2 Axes>"
      ]
     },
     "metadata": {
      "needs_background": "light"
     },
     "output_type": "display_data"
    }
   ],
   "source": [
    "plot_confusion_matrix(baseline_model, X_test_vec, y_test)"
   ]
  },
  {
   "cell_type": "code",
   "execution_count": 11,
   "id": "4eac44da",
   "metadata": {},
   "outputs": [],
   "source": [
    "MAXTOKENS=total_words_length\n",
    "OUTPUTLEN=avg_words_len\n",
    " \n",
    "text_vec = TextVectorization(\n",
    "    max_tokens=MAXTOKENS,\n",
    "    standardize='lower_and_strip_punctuation',\n",
    "    output_mode='int',\n",
    "    output_sequence_length=OUTPUTLEN\n",
    ")\n",
    "text_vec.adapt(X_train)"
   ]
  },
  {
   "cell_type": "code",
   "execution_count": 12,
   "id": "02522241",
   "metadata": {},
   "outputs": [
    {
     "data": {
      "text/plain": [
       "<tf.Tensor: shape=(1, 15), dtype=int64, numpy=\n",
       "array([[ 41,  10,   5, 148,   0,   0,   0,   0,   0,   0,   0,   0,   0,\n",
       "          0,   0]], dtype=int64)>"
      ]
     },
     "execution_count": 12,
     "metadata": {},
     "output_type": "execute_result"
    }
   ],
   "source": [
    "sample_sentence = \" This is a message \" \n",
    "text_vec([ sample_sentence ])"
   ]
  },
  {
   "cell_type": "code",
   "execution_count": 13,
   "id": "a795ac0b",
   "metadata": {},
   "outputs": [],
   "source": [
    "embedding_layer = layers.Embedding(\n",
    "    input_dim=MAXTOKENS,\n",
    "    output_dim=128,\n",
    "    embeddings_initializer='uniform',\n",
    "    input_length=OUTPUTLEN\n",
    ")"
   ]
  },
  {
   "cell_type": "code",
   "execution_count": 14,
   "id": "93eb55ea",
   "metadata": {},
   "outputs": [],
   "source": [
    "input_layer = layers.Input(shape=(1,), dtype=tf.string)\n",
    "vec_layer = text_vec(input_layer)\n",
    "embedding_layer_model = embedding_layer(vec_layer)\n",
    "x = layers.GlobalAveragePooling1D()(embedding_layer_model)\n",
    "x = layers.Flatten()(x)\n",
    "x = layers.Dense(32, activation='relu')(x)\n",
    "output_layer = layers.Dense(1, activation='sigmoid')(x)\n",
    "model_1 = keras.Model(input_layer, output_layer)\n",
    " \n",
    "model_1.compile(optimizer='adam', loss=keras.losses.BinaryCrossentropy(\n",
    "    label_smoothing=0.5), metrics=['accuracy'])"
   ]
  },
  {
   "cell_type": "code",
   "execution_count": 15,
   "id": "5be3639d",
   "metadata": {},
   "outputs": [
    {
     "name": "stdout",
     "output_type": "stream",
     "text": [
      "Model: \"model\"\n",
      "_________________________________________________________________\n",
      " Layer (type)                Output Shape              Param #   \n",
      "=================================================================\n",
      " input_1 (InputLayer)        [(None, 1)]               0         \n",
      "                                                                 \n",
      " text_vectorization (TextVec  (None, 15)               0         \n",
      " torization)                                                     \n",
      "                                                                 \n",
      " embedding (Embedding)       (None, 15, 128)           1994880   \n",
      "                                                                 \n",
      " global_average_pooling1d (G  (None, 128)              0         \n",
      " lobalAveragePooling1D)                                          \n",
      "                                                                 \n",
      " flatten (Flatten)           (None, 128)               0         \n",
      "                                                                 \n",
      " dense (Dense)               (None, 32)                4128      \n",
      "                                                                 \n",
      " dense_1 (Dense)             (None, 1)                 33        \n",
      "                                                                 \n",
      "=================================================================\n",
      "Total params: 1,999,041\n",
      "Trainable params: 1,999,041\n",
      "Non-trainable params: 0\n",
      "_________________________________________________________________\n"
     ]
    }
   ],
   "source": [
    "model_1.summary()"
   ]
  },
  {
   "cell_type": "code",
   "execution_count": 16,
   "id": "91368569",
   "metadata": {},
   "outputs": [
    {
     "name": "stdout",
     "output_type": "stream",
     "text": [
      "Epoch 1/5\n",
      "35/35 [==============================] - 2s 34ms/step - loss: 0.6467 - accuracy: 0.8511 - val_loss: 0.6064 - val_accuracy: 0.8655\n",
      "Epoch 2/5\n",
      "35/35 [==============================] - 1s 28ms/step - loss: 0.5995 - accuracy: 0.8789 - val_loss: 0.5907 - val_accuracy: 0.9318\n",
      "Epoch 3/5\n",
      "35/35 [==============================] - 1s 35ms/step - loss: 0.5847 - accuracy: 0.9561 - val_loss: 0.5758 - val_accuracy: 0.9776\n",
      "Epoch 4/5\n",
      "35/35 [==============================] - 1s 32ms/step - loss: 0.5721 - accuracy: 0.9830 - val_loss: 0.5684 - val_accuracy: 0.9910\n",
      "Epoch 5/5\n",
      "35/35 [==============================] - 1s 29ms/step - loss: 0.5681 - accuracy: 0.9910 - val_loss: 0.5664 - val_accuracy: 0.9946\n"
     ]
    }
   ],
   "source": [
    "history_1 = model_1.fit(X_test,y_test, epochs = 5, validation_data= (X_test,y_test), validation_steps=int(0.2*len(X_test)))"
   ]
  },
  {
   "cell_type": "code",
   "execution_count": 17,
   "id": "5d4b2e3f",
   "metadata": {},
   "outputs": [
    {
     "data": {
      "text/plain": [
       "<AxesSubplot:>"
      ]
     },
     "execution_count": 17,
     "metadata": {},
     "output_type": "execute_result"
    },
    {
     "data": {
      "image/png": "[encoded data removed]",
      "text/plain": [
       "<Figure size 432x288 with 1 Axes>"
      ]
     },
     "metadata": {
      "needs_background": "light"
     },
     "output_type": "display_data"
    }
   ],
   "source": [
    "pd.DataFrame(history_1.history).plot()"
   ]
  },
  {
   "cell_type": "code",
   "execution_count": 18,
   "id": "dcd4648a",
   "metadata": {},
   "outputs": [],
   "source": [
    "def compile_model(model):\n",
    "    model.compile(optimizer=keras.optimizers.Adam(),\n",
    "                  loss=keras.losses.BinaryCrossentropy(),\n",
    "                  metrics=['accuracy'])\n",
    " \n",
    "def fit_model(model, epochs, X_train=X_train, y_train=y_train,\n",
    "              X_test=X_test, y_test=y_test):\n",
    "    history = model.fit(X_train,\n",
    "                        y_train,\n",
    "                        epochs=epochs,\n",
    "                        validation_data=(X_test, y_test),\n",
    "                        validation_steps=int(0.2*len(X_test)))\n",
    "    return history\n",
    " \n",
    "def evaluate_model(model, X, y):\n",
    "    y_preds = np.round(model.predict(X))\n",
    "    accuracy = accuracy_score(y, y_preds)\n",
    "    precision = precision_score(y, y_preds)\n",
    "    recall = recall_score(y, y_preds)\n",
    "    f1 = f1_score(y, y_preds)\n",
    " \n",
    "    model_results_dict = {'accuracy': accuracy,\n",
    "                          'precision': precision,\n",
    "                          'recall': recall,\n",
    "                          'f1-score': f1}\n",
    " \n",
    "    return model_results_dict"
   ]
  },
  {
   "cell_type": "code",
   "execution_count": 19,
   "id": "48252a5f",
   "metadata": {},
   "outputs": [
    {
     "name": "stdout",
     "output_type": "stream",
     "text": [
      "Epoch 1/5\n",
      "140/140 [==============================] - 11s 40ms/step - loss: 0.1244 - accuracy: 0.9614 - val_loss: 0.0412 - val_accuracy: 0.9910\n",
      "Epoch 2/5\n",
      "140/140 [==============================] - 5s 34ms/step - loss: 0.0350 - accuracy: 0.9904 - val_loss: 0.0347 - val_accuracy: 0.9928\n",
      "Epoch 3/5\n",
      "140/140 [==============================] - 4s 30ms/step - loss: 0.0116 - accuracy: 0.9973 - val_loss: 0.0463 - val_accuracy: 0.9919\n",
      "Epoch 4/5\n",
      "140/140 [==============================] - 4s 29ms/step - loss: 0.0015 - accuracy: 0.9998 - val_loss: 0.0616 - val_accuracy: 0.9910\n",
      "Epoch 5/5\n",
      "140/140 [==============================] - 4s 30ms/step - loss: 7.2833e-04 - accuracy: 0.9998 - val_loss: 0.0692 - val_accuracy: 0.9919\n"
     ]
    }
   ],
   "source": [
    "input_layer = layers.Input(shape=(1,), dtype=tf.string)\n",
    "vec_layer = text_vec(input_layer)\n",
    "embedding_layer_model = embedding_layer(vec_layer)\n",
    "bi_lstm = layers.Bidirectional(layers.LSTM(\n",
    "    64, activation='tanh', return_sequences=True))(embedding_layer_model)\n",
    "lstm = layers.Bidirectional(layers.LSTM(64))(bi_lstm)\n",
    "flatten = layers.Flatten()(lstm)\n",
    "dropout = layers.Dropout(.1)(flatten)\n",
    "x = layers.Dense(32, activation='relu')(dropout)\n",
    "output_layer = layers.Dense(1, activation='sigmoid')(x)\n",
    "model_2 = keras.Model(input_layer, output_layer)\n",
    " \n",
    "compile_model(model_2)  \n",
    "history_2 = fit_model(model_2, epochs=5)  "
   ]
  },
  {
   "cell_type": "code",
   "execution_count": 20,
   "id": "285a1562",
   "metadata": {},
   "outputs": [
    {
     "name": "stdout",
     "output_type": "stream",
     "text": [
      "Epoch 1/5\n",
      "140/140 [==============================] - 10s 39ms/step - loss: 0.0123 - accuracy: 0.9984 - val_loss: 0.0602 - val_accuracy: 0.9883\n",
      "Epoch 2/5\n",
      "140/140 [==============================] - 4s 29ms/step - loss: 0.0019 - accuracy: 0.9991 - val_loss: 0.0640 - val_accuracy: 0.9892\n",
      "Epoch 3/5\n",
      "140/140 [==============================] - 4s 30ms/step - loss: 2.3764e-04 - accuracy: 1.0000 - val_loss: 0.0851 - val_accuracy: 0.9883\n",
      "Epoch 4/5\n",
      "140/140 [==============================] - 4s 30ms/step - loss: 1.7500e-05 - accuracy: 1.0000 - val_loss: 0.0891 - val_accuracy: 0.9883\n",
      "Epoch 5/5\n",
      "140/140 [==============================] - 4s 29ms/step - loss: 1.2495e-05 - accuracy: 1.0000 - val_loss: 0.0927 - val_accuracy: 0.9883\n"
     ]
    }
   ],
   "source": [
    "compile_model(model_2) \n",
    "history_2 = fit_model (model_2, epochs=5) "
   ]
  },
  {
   "cell_type": "code",
   "execution_count": 21,
   "id": "badea570",
   "metadata": {},
   "outputs": [
    {
     "name": "stdout",
     "output_type": "stream",
     "text": [
      "35/35 [==============================] - 0s 880us/step\n",
      "35/35 [==============================] - 1s 4ms/step\n"
     ]
    }
   ],
   "source": [
    "baseline_model_results = evaluate_model(baseline_model, X_test_vec, y_test)\n",
    "model_1_results = evaluate_model(model_1, X_test, y_test)\n",
    "model_2_results = evaluate_model(model_2, X_test, y_test)\n",
    " \n",
    "total_results = pd.DataFrame({'MultinomialNB Model':baseline_model_results,\n",
    "                             'Custom-Vec-Embedding Model':model_1_results,\n",
    "                             'Bidirectional-LSTM Model':model_2_results}).transpose()\n",
    " "
   ]
  },
  {
   "cell_type": "code",
   "execution_count": 22,
   "id": "068d8388",
   "metadata": {},
   "outputs": [
    {
     "data": {
      "text/html": [
       "<div>\n",
       "<style scoped>\n",
       "    .dataframe tbody tr th:only-of-type {\n",
       "        vertical-align: middle;\n",
       "    }\n",
       "\n",
       "    .dataframe tbody tr th {\n",
       "        vertical-align: top;\n",
       "    }\n",
       "\n",
       "    .dataframe thead th {\n",
       "        text-align: right;\n",
       "    }\n",
       "</style>\n",
       "<table border=\"1\" class=\"dataframe\">\n",
       "  <thead>\n",
       "    <tr style=\"text-align: right;\">\n",
       "      <th></th>\n",
       "      <th>accuracy</th>\n",
       "      <th>precision</th>\n",
       "      <th>recall</th>\n",
       "      <th>f1-score</th>\n",
       "    </tr>\n",
       "  </thead>\n",
       "  <tbody>\n",
       "    <tr>\n",
       "      <th>MultinomialNB Model</th>\n",
       "      <td>0.962332</td>\n",
       "      <td>1.000000</td>\n",
       "      <td>0.720000</td>\n",
       "      <td>0.837209</td>\n",
       "    </tr>\n",
       "    <tr>\n",
       "      <th>Custom-Vec-Embedding Model</th>\n",
       "      <td>0.984753</td>\n",
       "      <td>1.000000</td>\n",
       "      <td>0.886667</td>\n",
       "      <td>0.939929</td>\n",
       "    </tr>\n",
       "    <tr>\n",
       "      <th>Bidirectional-LSTM Model</th>\n",
       "      <td>0.988341</td>\n",
       "      <td>0.985816</td>\n",
       "      <td>0.926667</td>\n",
       "      <td>0.955326</td>\n",
       "    </tr>\n",
       "  </tbody>\n",
       "</table>\n",
       "</div>"
      ],
      "text/plain": [
       "                            accuracy  precision    recall  f1-score\n",
       "MultinomialNB Model         0.962332   1.000000  0.720000  0.837209\n",
       "Custom-Vec-Embedding Model  0.984753   1.000000  0.886667  0.939929\n",
       "Bidirectional-LSTM Model    0.988341   0.985816  0.926667  0.955326"
      ]
     },
     "execution_count": 22,
     "metadata": {},
     "output_type": "execute_result"
    }
   ],
   "source": [
    "total_results"
   ]
  }
 ],
 "metadata": {
  "kernelspec": {
   "display_name": "Python 3 (ipykernel)",
   "language": "python",
   "name": "python3"
  },
  "language_info": {
   "codemirror_mode": {
    "name": "ipython",
    "version": 3
   },
   "file_extension": ".py",
   "mimetype": "text/x-python",
   "name": "python",
   "nbconvert_exporter": "python",
   "pygments_lexer": "ipython3",
   "version": "3.9.12"
  }
 },
 "nbformat": 4,
 "nbformat_minor": 5
}
